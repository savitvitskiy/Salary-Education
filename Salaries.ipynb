{
 "cells": [
  {
   "cell_type": "code",
   "execution_count": null,
   "metadata": {},
   "outputs": [],
   "source": [
    "import pandas as pd\n",
    "import re\n",
    "import matplotlib.pyplot as plt\n",
    "from matplotlib.colors import Normalize\n",
    "from matplotlib import colormaps\n",
    "import numpy as np\n",
    "import geopandas as gpd\n",
    "import seaborn as sns"
   ]
  },
  {
   "cell_type": "markdown",
   "metadata": {},
   "source": [
    "# Population Wages"
   ]
  },
  {
   "cell_type": "markdown",
   "metadata": {},
   "source": [
    "### What is the poverty line in the US?\n",
    "**Source:** [Assistant Secretary for Planning and Evaluation](https://aspe.hhs.gov/topics/poverty-economic-mobility/poverty-guidelines) **Year:** 2024"
   ]
  },
  {
   "cell_type": "code",
   "execution_count": null,
   "metadata": {},
   "outputs": [],
   "source": [
    "df_pov_guid = pd.read_csv('Datasets/Poverty_Guidelines.csv')\n",
    "df_pov_guid.head()"
   ]
  },
  {
   "cell_type": "markdown",
   "metadata": {},
   "source": [
    "Data Cleaning:\n",
    "* Shorten column names.\n",
    "* Convert data entries to numeric values.\n",
    "* Add 'National_PG' column for weighted average of poverty guidelines across US.\n",
    "* Select only national guidelines."
   ]
  },
  {
   "cell_type": "code",
   "execution_count": null,
   "metadata": {},
   "outputs": [],
   "source": [
    "df_pov_guid.columns = ['Household Size', 'US_PG', 'Alaska_PG', 'Hawaii_PG']"
   ]
  },
  {
   "cell_type": "code",
   "execution_count": null,
   "metadata": {},
   "outputs": [],
   "source": [
    "df_pov_guid['US_PG'] = df_pov_guid['US_PG'].str.extract(r'(\\d+\\,\\d+)').replace(',', '', regex=True).astype(float)\n",
    "df_pov_guid['Alaska_PG'] = df_pov_guid['Alaska_PG'].str.extract(r'(\\d+\\,\\d+)').replace(',', '', regex=True).astype(float)\n",
    "df_pov_guid['Hawaii_PG'] = df_pov_guid['Hawaii_PG'].str.extract(r'(\\d+\\,\\d+)').replace(',', '', regex=True).astype(float)"
   ]
  },
  {
   "cell_type": "code",
   "execution_count": null,
   "metadata": {},
   "outputs": [],
   "source": [
    "non_con = df_pov_guid[['Alaska_PG', 'Hawaii_PG']].sum(axis=1)\n",
    "con = df_pov_guid['US_PG'] * 49\n",
    "df_pov_guid['National_PG'] = (con + non_con) / 51"
   ]
  },
  {
   "cell_type": "code",
   "execution_count": null,
   "metadata": {},
   "outputs": [],
   "source": [
    "df_pov_guid = df_pov_guid.iloc[:, 0:5:4]"
   ]
  },
  {
   "cell_type": "code",
   "execution_count": null,
   "metadata": {},
   "outputs": [],
   "source": [
    "df_pov_guid.head()"
   ]
  },
  {
   "cell_type": "code",
   "execution_count": null,
   "metadata": {},
   "outputs": [],
   "source": [
    "pov_value = df_pov_guid['National_PG'].min()"
   ]
  },
  {
   "cell_type": "markdown",
   "metadata": {},
   "source": [
    "### What is the minimum wage across the US?\n",
    "**Source:** [US Department of Labor](https://www.dol.gov/agencies/whd/state/minimum-wage/history) **Year:** 2023"
   ]
  },
  {
   "cell_type": "code",
   "execution_count": null,
   "metadata": {},
   "outputs": [],
   "source": [
    "df_min_wage = pd.read_csv('Datasets/Minimum_Wage.csv')\n",
    "df_min_wage.head()"
   ]
  },
  {
   "cell_type": "markdown",
   "metadata": {},
   "source": [
    "Data Cleaning:\n",
    "* Use 'State' as umbrella term to include US Territories.\n",
    "* Change national minimum wage to 'NATIONAL.'\n",
    "* Select only data from 2023.\n",
    "* Remove codes from the 2023 columns (i.e. numberic values only).\n",
    "* Create column of annual salary for a 40 hour work week."
   ]
  },
  {
   "cell_type": "code",
   "execution_count": null,
   "metadata": {},
   "outputs": [],
   "source": [
    "df_min_wage = df_min_wage.rename(columns={'State or other\\njurisdiction': 'State'})"
   ]
  },
  {
   "cell_type": "code",
   "execution_count": null,
   "metadata": {},
   "outputs": [],
   "source": [
    "df_min_wage = df_min_wage.replace('Federal (FLSA)', 'NATIONAL')"
   ]
  },
  {
   "cell_type": "code",
   "execution_count": null,
   "metadata": {},
   "outputs": [],
   "source": [
    "df_min_wage = df_min_wage.iloc[:, 0:5:4]"
   ]
  },
  {
   "cell_type": "code",
   "execution_count": null,
   "metadata": {},
   "outputs": [],
   "source": [
    "df_min_wage['2023'] = df_min_wage['2023'].str.extract(r'(\\d+(?:\\.\\d+)?)').astype(float)"
   ]
  },
  {
   "cell_type": "code",
   "execution_count": null,
   "metadata": {},
   "outputs": [],
   "source": [
    "df_min_wage['Annual Salary'] = df_min_wage['2023'] * 40 * 52"
   ]
  },
  {
   "cell_type": "code",
   "execution_count": null,
   "metadata": {},
   "outputs": [],
   "source": [
    "df_min_wage.head()"
   ]
  },
  {
   "cell_type": "code",
   "execution_count": null,
   "metadata": {},
   "outputs": [],
   "source": [
    "df_min_wage_ORD = df_min_wage.sort_values(by='Annual Salary').dropna()\n",
    "plt.figure(figsize=(12, 4))\n",
    "plt.bar(df_min_wage_ORD['State'], df_min_wage_ORD['Annual Salary'])\n",
    "plt.axhline(pov_value, color='black',linestyle='--', label=f'Poverty Line')\n",
    "plt.ylabel('Salary')\n",
    "plt.title('Annual Salary Based on Minimum Wage')\n",
    "plt.xticks(rotation=90)\n",
    "plt.legend()\n",
    "plt.show()"
   ]
  },
  {
   "cell_type": "markdown",
   "metadata": {},
   "source": [
    "### What is the living wage across the US?\n",
    "*Note: Median living wage is also avaiable.*\n",
    "\n",
    "**Source:** [Economic Policy Institute](https://files.epi.org/uploads/fbc_livingwage_data_2024.xlsx) **Year:** 2024"
   ]
  },
  {
   "cell_type": "code",
   "execution_count": null,
   "metadata": {},
   "outputs": [],
   "source": [
    "df_liv_wage = pd.read_csv('Datasets/Living_Wage.csv')\n",
    "df_liv_wage.head()"
   ]
  },
  {
   "cell_type": "markdown",
   "metadata": {},
   "source": [
    "Data Cleaning:\n",
    "* Remove columm of state abbreviations.\n",
    "* Reduce rows to include the 'standard' values.\n",
    "* Reduce columns to include 'all income from wages' values.\n",
    "* Combine information from first two rows.\n",
    "* Use only data from one adult, no children.\n",
    "* Convert data to numeric values.\n",
    "* Create column with annual salary for a 40 hour work week."
   ]
  },
  {
   "cell_type": "code",
   "execution_count": null,
   "metadata": {},
   "outputs": [],
   "source": [
    "df_liv_wage = df_liv_wage.iloc[:, 1:]"
   ]
  },
  {
   "cell_type": "code",
   "execution_count": null,
   "metadata": {},
   "outputs": [],
   "source": [
    "df_liv_wage = df_liv_wage[~df_liv_wage['Unnamed: 2'].str.contains('Median', na=False)]"
   ]
  },
  {
   "cell_type": "code",
   "execution_count": null,
   "metadata": {},
   "outputs": [],
   "source": [
    "df_liv_wage = df_liv_wage.rename(columns={'Unnamed: 1': 'State'})\n",
    "df_liv_wage.drop(df_liv_wage.columns[df_liv_wage.columns.str.contains('Unnamed|Summary')], axis=1, inplace=True)"
   ]
  },
  {
   "cell_type": "code",
   "execution_count": null,
   "metadata": {},
   "outputs": [],
   "source": [
    "df_liv_wage = df_liv_wage[1:]"
   ]
  },
  {
   "cell_type": "code",
   "execution_count": null,
   "metadata": {},
   "outputs": [],
   "source": [
    "df_liv_wage = df_liv_wage.iloc[:, :2]"
   ]
  },
  {
   "cell_type": "code",
   "execution_count": null,
   "metadata": {},
   "outputs": [],
   "source": [
    "df_liv_wage['One adult, no children'] = df_liv_wage['One adult, no children'].str.extract(r'(\\d+(?:\\.\\d+)?)').astype(float)"
   ]
  },
  {
   "cell_type": "code",
   "execution_count": null,
   "metadata": {},
   "outputs": [],
   "source": [
    "df_liv_wage['Annual Salary'] = df_liv_wage['One adult, no children'] * 40 * 52"
   ]
  },
  {
   "cell_type": "code",
   "execution_count": null,
   "metadata": {},
   "outputs": [],
   "source": [
    "df_liv_wage = df_liv_wage.reset_index(drop=True)\n",
    "df_liv_wage.head()"
   ]
  },
  {
   "cell_type": "code",
   "execution_count": null,
   "metadata": {},
   "outputs": [],
   "source": [
    "df_combined = pd.merge(df_min_wage, df_liv_wage, left_on='State', right_on='State')\n",
    "df_combined.columns = ['State', 'Min Wage', 'MW Salary', 'Liv Wage', 'LW Salary']\n",
    "df_combined.drop(df_combined.columns[~df_combined.columns.str.contains('Salary|State')], axis=1, inplace=True)\n",
    "df_combined['LW - MW'] = df_combined['LW Salary'] - df_combined['MW Salary']\n",
    "df_combined.head()"
   ]
  },
  {
   "cell_type": "code",
   "execution_count": null,
   "metadata": {},
   "outputs": [],
   "source": [
    "df_combined_ORD = df_combined.sort_values(by='MW Salary').dropna()\n",
    "plt.figure(figsize=(12, 4))\n",
    "plt.bar(df_combined_ORD['State'], df_combined_ORD['MW Salary'], label='Min Wage Salary')\n",
    "plt.bar(df_combined_ORD['State'], df_combined_ORD['LW - MW'], bottom=df_combined_ORD['MW Salary'], color='lightblue', label='Salary Gap')\n",
    "plt.ylabel('Salary')\n",
    "plt.title('Minimum Wage Vs. Living Wage')\n",
    "plt.xticks(rotation=90)\n",
    "plt.legend()\n",
    "plt.show()"
   ]
  },
  {
   "cell_type": "markdown",
   "metadata": {},
   "source": [
    "### What is the average (and median) income across the US?\n",
    "**Source:** [US Census Bureau](https://data.census.gov/table/ACSST1Y2022.S1901?t=Income%20and%20Poverty&g=010XX00US,$0400000) **Year:** 2022"
   ]
  },
  {
   "cell_type": "code",
   "execution_count": null,
   "metadata": {},
   "outputs": [],
   "source": [
    "df_salaries = pd.read_csv('Datasets/Average_Income.csv')\n",
    "df_salaries.head()"
   ]
  },
  {
   "cell_type": "markdown",
   "metadata": {},
   "source": [
    "Data Cleaning:\n",
    "* Reduce columns to include only 'non-family' households, exlude margin of error columns.\n",
    "* Reduce rows to include income brackets, median, and mean.\n",
    "* Transpose data set.\n",
    "* Name first column 'State,' median salary to 'Median Salary,' and mean salary to 'Average Salary.'\n",
    "* Rename values in 'State' column to just the state.\n",
    "* Rename 'United States' value to 'NATIONAL.'\n",
    "* Convert data in 'Median Salary' and 'Average Salary' to numeric values."
   ]
  },
  {
   "cell_type": "code",
   "execution_count": null,
   "metadata": {},
   "outputs": [],
   "source": [
    "df_salaries.drop(df_salaries.columns[~df_salaries.columns.str.contains('Nonfamily households!!Estimate|Label')], axis=1, inplace=True)"
   ]
  },
  {
   "cell_type": "code",
   "execution_count": null,
   "metadata": {},
   "outputs": [],
   "source": [
    "df_salaries = df_salaries[df_salaries['Label (Grouping)'].str.contains('Mean|Median', na=False)]"
   ]
  },
  {
   "cell_type": "code",
   "execution_count": null,
   "metadata": {},
   "outputs": [],
   "source": [
    "df_salaries = df_salaries.set_index('Label (Grouping)').T.reset_index().rename_axis(None, axis=1)"
   ]
  },
  {
   "cell_type": "code",
   "execution_count": null,
   "metadata": {},
   "outputs": [],
   "source": [
    "df_salaries = df_salaries.rename(columns={'index': 'State', 'Median income (dollars)': 'Median Salary', 'Mean income (dollars)': 'Average Salary'})"
   ]
  },
  {
   "cell_type": "code",
   "execution_count": null,
   "metadata": {},
   "outputs": [],
   "source": [
    "df_salaries['State'] = df_salaries['State'].str.replace('!!Nonfamily households!!Estimate', '', regex=True)"
   ]
  },
  {
   "cell_type": "code",
   "execution_count": null,
   "metadata": {},
   "outputs": [],
   "source": [
    "df_salaries = df_salaries.replace('United States', 'NATIONAL')"
   ]
  },
  {
   "cell_type": "code",
   "execution_count": null,
   "metadata": {},
   "outputs": [],
   "source": [
    "df_salaries['Average Salary'] = df_salaries['Average Salary'].str.replace(',', '', regex=True).astype(float)\n",
    "df_salaries['Median Salary'] = df_salaries['Median Salary'].str.replace(',', '', regex=True).astype(float)"
   ]
  },
  {
   "cell_type": "code",
   "execution_count": null,
   "metadata": {},
   "outputs": [],
   "source": [
    "df_salaries.head()"
   ]
  },
  {
   "cell_type": "code",
   "execution_count": null,
   "metadata": {},
   "outputs": [],
   "source": [
    "df_combined = pd.merge(df_combined, df_salaries, left_on='State', right_on='State')\n",
    "df_combined.head()"
   ]
  },
  {
   "cell_type": "code",
   "execution_count": null,
   "metadata": {},
   "outputs": [],
   "source": [
    "df_combined_ORD = df_combined.sort_values(by='MW Salary').dropna()\n",
    "plt.figure(figsize=(12, 4))\n",
    "plt.plot(df_combined_ORD['State'], df_combined_ORD['MW Salary'], color='black', label='Min Wage Salary')\n",
    "plt.plot(df_combined_ORD['State'], df_combined_ORD['LW Salary'], color='black', linestyle='--', label='Liv Wage Salary')\n",
    "plt.plot(df_combined_ORD['State'], df_combined_ORD['Median Salary'], label='Median Salary')\n",
    "plt.plot(df_combined_ORD['State'], df_combined_ORD['Average Salary'], label='Average Salary')\n",
    "plt.ylabel('Salary')\n",
    "plt.title('Salary Information Across the US')\n",
    "plt.xticks(rotation=90)\n",
    "plt.legend()\n",
    "plt.show()"
   ]
  },
  {
   "cell_type": "markdown",
   "metadata": {},
   "source": [
    "# Teacher Wages"
   ]
  },
  {
   "cell_type": "markdown",
   "metadata": {},
   "source": [
    "### What is the starting salary for teachers across the US?\n",
    "**Source:** [National Education Association](https://www.nea.org/resource-library/educator-pay-and-student-spending-how-does-your-state-rank/starting-teacher) **Year:** FY 2022 - 2023"
   ]
  },
  {
   "cell_type": "code",
   "execution_count": null,
   "metadata": {},
   "outputs": [],
   "source": [
    "df_star_sal = pd.read_csv('Datasets/Starting_Salary.csv')\n",
    "df_star_sal.head()"
   ]
  },
  {
   "cell_type": "markdown",
   "metadata": {},
   "source": [
    "Data Cleaning:\n",
    "* Select data from starting salary and top salary columns.\n",
    "* Convert data to numeric values.\n",
    "* Rename columns in title case.\n",
    "* Rename 'Dist. of Columbia' to 'District of Columbia.'\n",
    "* Rename 'United States' to 'NATIONAL.'\n",
    "* Remove '*' code from Texas."
   ]
  },
  {
   "cell_type": "code",
   "execution_count": null,
   "metadata": {},
   "outputs": [],
   "source": [
    "df_star_sal.drop(df_star_sal.columns[df_star_sal.columns.str.contains(\"'S\")], axis=1, inplace=True)"
   ]
  },
  {
   "cell_type": "code",
   "execution_count": null,
   "metadata": {},
   "outputs": [],
   "source": [
    "df_star_sal['STARTING SALARY'] = df_star_sal['STARTING SALARY'].str.extract(r'(\\d+\\,\\d+)').replace(',', '', regex=True).astype(float)\n",
    "df_star_sal['TOP SALARY'] = df_star_sal['TOP SALARY'].str.extract(r'(\\d+\\,\\d+)').replace(',', '', regex=True).astype(float)"
   ]
  },
  {
   "cell_type": "code",
   "execution_count": null,
   "metadata": {},
   "outputs": [],
   "source": [
    "df_star_sal.columns = ['State', 'Starting Salary', 'Top Salary']"
   ]
  },
  {
   "cell_type": "code",
   "execution_count": null,
   "metadata": {},
   "outputs": [],
   "source": [
    "df_star_sal = df_star_sal.replace('United States', 'NATIONAL')\n",
    "df_star_sal = df_star_sal.replace('Dist. of Columbia', 'District of Columbia')\n",
    "df_star_sal = df_star_sal.replace('Texas*', 'Texas')"
   ]
  },
  {
   "cell_type": "code",
   "execution_count": null,
   "metadata": {},
   "outputs": [],
   "source": [
    "df_star_sal.head()"
   ]
  },
  {
   "cell_type": "code",
   "execution_count": null,
   "metadata": {},
   "outputs": [],
   "source": [
    "states = gpd.read_file('tl_2023_us_state/tl_2023_us_state.shp')\n",
    "states = states.to_crs('EPSG:2267')\n",
    "states = states.merge(df_star_sal, left_on='NAME', right_on='State')\n",
    "\n",
    "alaska = states[states['NAME'] == 'Alaska']\n",
    "hawaii = states[states['NAME'] == 'Hawaii']\n",
    "mainland = states[(states['NAME'] != 'Alaska') & (states['NAME'] != 'Hawaii')]\n",
    "\n",
    "vmin = states['Starting Salary'].min()\n",
    "vmax = states['Starting Salary'].max()\n",
    "norm = Normalize(vmin=vmin, vmax=vmax)\n",
    "cmap = colormaps['Blues']\n",
    "\n",
    "fig, ax_main = plt.subplots(1, 1, figsize=(18, 14))\n",
    "ax_alaska = fig.add_axes([0.1, 0.15, 0.2, 0.2])  # [left, bottom, width, height]\n",
    "ax_hawaii = fig.add_axes([0.25, 0.15, 0.15, 0.45])\n",
    "\n",
    "mainland.plot(ax=ax_main, column='Starting Salary', cmap=cmap, norm=norm, legend=True, \n",
    "    legend_kwds={'shrink': 0.25, 'pad': 0, 'aspect': 10}, linewidth=0.8, edgecolor='0.8')\n",
    "alaska.plot(ax=ax_alaska, column='Starting Salary', cmap=cmap, norm=norm, legend=False)\n",
    "hawaii.plot(ax=ax_hawaii, column='Starting Salary', cmap=cmap, norm=norm, legend=False)\n",
    "\n",
    "ax_main.set_axis_off()\n",
    "ax_alaska.set_axis_off()\n",
    "ax_hawaii.set_axis_off()\n",
    "\n",
    "ax_main.set_title('Starting Salaries for Teachers \\n 2022 - 2023', fontsize=16)\n",
    "plt.show()"
   ]
  },
  {
   "cell_type": "code",
   "execution_count": null,
   "metadata": {},
   "outputs": [],
   "source": [
    "df_combined = pd.merge(df_combined, df_star_sal, left_on='State', right_on='State')"
   ]
  },
  {
   "cell_type": "markdown",
   "metadata": {},
   "source": [
    "### What is the average salary for teachers across the US?\n",
    "**Source:** [National Education Association](https://www.nea.org/resource-library/educator-pay-and-student-spending-how-does-your-state-rank/teacher) **Year:** 2022 - 2023"
   ]
  },
  {
   "cell_type": "code",
   "execution_count": null,
   "metadata": {},
   "outputs": [],
   "source": [
    "df_avg_sal = pd.read_csv('Datasets/Average_Salary.csv')\n",
    "df_avg_sal.head()"
   ]
  },
  {
   "cell_type": "markdown",
   "metadata": {},
   "source": [
    "Data Cleaning:\n",
    "* Remove rank (and percent) columns.\n",
    "* Rename columns to be title case and only years when applicable\n",
    "* Convert data to numeric values."
   ]
  },
  {
   "cell_type": "code",
   "execution_count": null,
   "metadata": {},
   "outputs": [],
   "source": [
    "df_avg_sal.drop(df_avg_sal.columns[df_avg_sal.columns.str.contains('RANK|PERCENT')], axis=1, inplace=True)"
   ]
  },
  {
   "cell_type": "code",
   "execution_count": null,
   "metadata": {},
   "outputs": [],
   "source": [
    "df_avg_sal.columns = ['State', '2021 - 2022', '2022 - 2023']"
   ]
  },
  {
   "cell_type": "code",
   "execution_count": null,
   "metadata": {},
   "outputs": [],
   "source": [
    "df_avg_sal['2021 - 2022'] = df_avg_sal['2021 - 2022'].str.extract(r'(\\d+\\,\\d+)').replace(',', '', regex=True).astype(float)\n",
    "df_avg_sal['2022 - 2023'] = df_avg_sal['2022 - 2023'].str.extract(r'(\\d+\\,\\d+)').replace(',', '', regex=True).astype(float)"
   ]
  },
  {
   "cell_type": "code",
   "execution_count": null,
   "metadata": {},
   "outputs": [],
   "source": [
    "df_avg_sal.head()"
   ]
  },
  {
   "cell_type": "code",
   "execution_count": null,
   "metadata": {},
   "outputs": [],
   "source": [
    "df_combined = pd.merge(df_combined, df_avg_sal, left_on='State', right_on='State')"
   ]
  },
  {
   "cell_type": "code",
   "execution_count": null,
   "metadata": {},
   "outputs": [],
   "source": [
    "df_combined_ORD = df_combined.sort_values(by='LW Salary').dropna()\n",
    "plt.figure(figsize=(12, 4))\n",
    "plt.plot(df_combined_ORD['State'], df_combined_ORD['LW Salary'], label='Liv Wage Salary')\n",
    "plt.plot(df_combined_ORD['State'], df_combined_ORD['Starting Salary'], color='black', label='Starting Salary')\n",
    "plt.plot(df_combined_ORD['State'], df_combined_ORD['Average Salary'], color='black', linestyle='dashed', label='Average Salary')\n",
    "plt.plot(df_combined_ORD['State'], df_combined_ORD['Top Salary'], color='black', linestyle='dotted', label='Top Salary')\n",
    "plt.ylabel('Salary')\n",
    "plt.title('Teacher Salaries VS Living Wage')\n",
    "plt.xticks(rotation=90)\n",
    "plt.legend()\n",
    "plt.show()"
   ]
  },
  {
   "cell_type": "markdown",
   "metadata": {},
   "source": [
    "# School Enrollment"
   ]
  },
  {
   "cell_type": "markdown",
   "metadata": {},
   "source": [
    "### What is the school enrollment rate across the US?\n",
    "**Source:** [United States Census Bureau](https://data.census.gov/table/ACSST1Y2022.S1401?t=Education&g=010XX00US,$0400000) **Year:** 2022"
   ]
  },
  {
   "cell_type": "code",
   "execution_count": null,
   "metadata": {},
   "outputs": [],
   "source": [
    "df_enroll = pd.read_csv('Datasets/School_Enrollment.csv')\n",
    "df_enroll.head(5)"
   ]
  },
  {
   "cell_type": "markdown",
   "metadata": {},
   "source": [
    "Data Cleaning:\n",
    "* Select rows that are '... year olds enrolled in school'\n",
    "* Keep columms '... Percent!!Estimate'\n",
    "* Transpose columns and rows.\n",
    "* Shorten all column names.\n",
    "* Reduce state data to include only the state.\n",
    "* Change 'United States' to 'NATIONAL.'\n",
    "* Change data to numeric."
   ]
  },
  {
   "cell_type": "code",
   "execution_count": null,
   "metadata": {},
   "outputs": [],
   "source": [
    "df_enroll = df_enroll[df_enroll['Label (Grouping)'].str.contains('year olds enrolled in school', na=False)]"
   ]
  },
  {
   "cell_type": "code",
   "execution_count": null,
   "metadata": {},
   "outputs": [],
   "source": [
    "df_enroll.drop(df_enroll.columns[~df_enroll.columns.str.contains('Percent!!Estimate|Label')], axis=1, inplace=True)"
   ]
  },
  {
   "cell_type": "code",
   "execution_count": null,
   "metadata": {},
   "outputs": [],
   "source": [
    "df_enroll = df_enroll.set_index('Label (Grouping)').T.reset_index().rename_axis(None, axis=1)"
   ]
  },
  {
   "cell_type": "code",
   "execution_count": null,
   "metadata": {},
   "outputs": [],
   "source": [
    "df_enroll.columns = ['State', 'Ages: 3-4', 'Ages: 5-9', 'Ages: 10-14', 'Ages: 15-17', 'Ages: 18-19', 'Ages: 20-24', 'Ages: 25-34']"
   ]
  },
  {
   "cell_type": "code",
   "execution_count": null,
   "metadata": {},
   "outputs": [],
   "source": [
    "df_enroll['State'] = df_enroll['State'].str.replace('!!Percent!!Estimate', '', regex=True)"
   ]
  },
  {
   "cell_type": "code",
   "execution_count": null,
   "metadata": {},
   "outputs": [],
   "source": [
    "df_enroll = df_enroll.replace('United States', 'NATIONAL')"
   ]
  },
  {
   "cell_type": "code",
   "execution_count": null,
   "metadata": {},
   "outputs": [],
   "source": [
    "df_enroll['Ages: 3-4'] = df_enroll['Ages: 3-4'].str.replace('%', '', regex=True).astype(float)\n",
    "df_enroll['Ages: 5-9'] = df_enroll['Ages: 5-9'].str.replace('%', '', regex=True).astype(float)\n",
    "df_enroll['Ages: 10-14'] = df_enroll['Ages: 10-14'].str.replace('%', '', regex=True).astype(float)\n",
    "df_enroll['Ages: 15-17'] = df_enroll['Ages: 15-17'].str.replace('%', '', regex=True).astype(float)\n",
    "df_enroll['Ages: 18-19'] = df_enroll['Ages: 18-19'].str.replace('%', '', regex=True).astype(float)\n",
    "df_enroll['Ages: 20-24'] = df_enroll['Ages: 20-24'].str.replace('%', '', regex=True).astype(float)\n",
    "df_enroll['Ages: 25-34'] = df_enroll['Ages: 25-34'].str.replace('%', '', regex=True).astype(float)"
   ]
  },
  {
   "cell_type": "code",
   "execution_count": null,
   "metadata": {},
   "outputs": [],
   "source": [
    "df_enroll.head()"
   ]
  },
  {
   "cell_type": "code",
   "execution_count": null,
   "metadata": {},
   "outputs": [],
   "source": [
    "df_heatmap = df_enroll\n",
    "df_heatmap.columns = ['State', '3-4', '5-9', '10-14', '15-17', '18-19', '20-24', '25-34']\n",
    "df_heatmap.set_index('State', inplace=True)\n",
    "df_heatmap = df_heatmap.T\n",
    "plt.figure(figsize=(16, 8))\n",
    "sns.heatmap(df_heatmap, annot=False, cbar_kws={'label': 'Percent of Population in Age Range'}, linewidths=0.5, linecolor='white')\n",
    "plt.title('School Enrollment by Age Range')\n",
    "plt.xlabel('States')\n",
    "plt.ylabel('Age Ranges')\n",
    "plt.xticks(rotation=90)\n",
    "# plt.yticks(rotation=0)\n",
    "plt.show()"
   ]
  },
  {
   "cell_type": "code",
   "execution_count": null,
   "metadata": {},
   "outputs": [],
   "source": [
    "# top_5_enro = df_enroll.nlargest(5, 'Ages: 3-4')\n",
    "# bottom_5_enro = df_enroll.nsmallest(5, 'Ages: 3-4').sort_values(by='Ages: 3-4', ascending=False)\n",
    "\n",
    "# barWidth = 0.15\n",
    "\n",
    "# r1 = np.arange(len(top_5_min['State']))\n",
    "# r2 = [x + barWidth for x in r1]\n",
    "# r3 = [x + barWidth for x in r2]\n",
    "# r4 = [x + barWidth for x in r3]\n",
    "# r5 = [x + barWidth for x in r4]\n",
    "# r6 = [x + barWidth for x in r5] \n",
    "# r7 = [x + barWidth for x in r6]\n",
    "\n",
    "# fig, axs = plt.subplots(1, 2, figsize=(15, 6), sharey=True) \n",
    "\n",
    "# axs[0].bar(top_5_enro['State'], top_5_enro['Ages: 3-4'], color='lightblue', width=barWidth, label='Ages: 3-4')\n",
    "# axs[0].bar(r2, top_5_enro['Ages: 5-9'], color='blue', width=barWidth, label='Ages: 5-9')\n",
    "# axs[0].bar(r3, top_5_enro['Ages: 10-14'], color='lightgreen', width=barWidth, label='Ages: 10-14')\n",
    "# axs[0].bar(r4, top_5_enro['Ages: 15-17'], color='pink', width=barWidth, label='Ages: 15-17')\n",
    "# axs[0].bar(r5, top_5_enro['Ages: 18-19'], color='coral', width=barWidth, label='Ages: 18-19')\n",
    "# # axs[0].bar(r6, top_5_enro['Ages: 20-24'], color='orange', width=barWidth, label='Ages: 20-24')\n",
    "# # axs[0].bar(r7, top_5_enro['Ages: 25-34'], color='yellow', width=barWidth, label='Ages: 25-34')\n",
    "# axs[0].set_title('States with Highest Enrollment')\n",
    "# axs[0].set_xlabel('State')\n",
    "# axs[0].set_ylabel('Enrollment')\n",
    "# axs[0].set_xticks([r + barWidth / 2 for r in range(len(top_5_enro['State']))], top_5_enro['State'])\n",
    "# axs[0].legend()\n",
    "\n",
    "# axs[1].bar(bottom_5_enro['State'], bottom_5_enro['Ages: 3-4'], color='lightblue', width=barWidth, label='Ages: 3-4')\n",
    "# axs[1].bar(r2, bottom_5_enro['Ages: 5-9'], color='blue', width=barWidth, label='Ages: 5-9')\n",
    "# axs[1].bar(r3, bottom_5_enro['Ages: 10-14'], color='lightgreen', width=barWidth, label='Ages: 10-14')\n",
    "# axs[1].bar(r4, bottom_5_enro['Ages: 15-17'], color='pink', width=barWidth, label='Ages: 15-17')\n",
    "# axs[1].bar(r5, bottom_5_enro['Ages: 18-19'], color='coral', width=barWidth, label='Ages: 18-19')\n",
    "# # axs[1].bar(r6, bottom_5_enro['Ages: 20-24'], color='orange', width=barWidth, label='Ages: 20-24')\n",
    "# # axs[1].bar(r7, bottom_5_enro['Ages: 25-34'], color='yellow', width=barWidth, label='Ages: 25-34')\n",
    "# axs[1].set_title('States with Lowest Enrollment')\n",
    "# axs[1].set_xlabel('State')\n",
    "# axs[1].set_ylabel('Enrollment')\n",
    "# axs[1].set_xticks([r + barWidth / 2 for r in range(len(bottom_5_enro['State']))], bottom_5_enro['State'])\n",
    "# axs[1].legend()\n",
    "\n",
    "# fig.suptitle('School Enrollment Across US (by Percent)', fontsize=16)\n",
    "\n",
    "# plt.tight_layout()\n",
    "\n",
    "# plt.show()"
   ]
  },
  {
   "cell_type": "code",
   "execution_count": null,
   "metadata": {},
   "outputs": [],
   "source": [
    "df_combined = pd.merge(df_combined, df_enroll, left_on='State', right_on='State')"
   ]
  },
  {
   "cell_type": "markdown",
   "metadata": {},
   "source": [
    "# Summary"
   ]
  },
  {
   "cell_type": "code",
   "execution_count": null,
   "metadata": {},
   "outputs": [],
   "source": [
    "df_combined.head()"
   ]
  },
  {
   "cell_type": "code",
   "execution_count": null,
   "metadata": {},
   "outputs": [],
   "source": [
    "# top_5_WAGE = df_ALL_WAGE.sort_values(by='Min_Wage Salary').nlargest(5, 'Min_Wage Salary')\n",
    "# bottom_5_WAGE = df_ALL_WAGE.sort_values(by='Min_Wage Salary').nsmallest(5, 'Min_Wage Salary').sort_values(by='Min_Wage Salary', ascending=False)\n",
    "\n",
    "# barWidth = 0.2\n",
    "\n",
    "# r1 = np.arange(len(top_5_WAGE['State']))\n",
    "# r2 = [x + barWidth for x in r1]\n",
    "# r3 = [x + barWidth for x in r2]\n",
    "# r4 = [x + barWidth for x in r3]\n",
    "\n",
    "# fig, axs = plt.subplots(1, 2, figsize=(15, 6), sharey=True) \n",
    "\n",
    "# axs[0].bar(r1, top_5_WAGE['Min_Wage Salary'], color='lightblue', width=barWidth, label='Min_Wage Salary')\n",
    "# axs[0].bar(r2, top_5_WAGE['Liv_Wage Salary'], color='blue', width=barWidth, label='Liv_Wage Salary')\n",
    "# axs[0].bar(r3, top_5_WAGE['Median Salary'], color='green', width=barWidth, label='Median Salary')\n",
    "# axs[0].bar(r4, top_5_WAGE['Average Salary'], color='lightgreen', width=barWidth, label='Average Salary')\n",
    "# axs[0].axhline(pov_value, color='red', linewidth=2, linestyle='--', label=f'Poverty Line')\n",
    "# axs[0].set_title('Highest 5 Salaries Based on Minimum Wage')\n",
    "# axs[0].set_xlabel('State')\n",
    "# axs[0].set_ylabel('Salary')\n",
    "# axs[0].set_xticks([r + barWidth / 2 for r in range(len(top_5_sal['State']))], top_5_sal['State'])\n",
    "# axs[0].legend()\n",
    "\n",
    "# axs[1].bar(r1, bottom_5_WAGE['Min_Wage Salary'], color='orange', width=barWidth, label='Min_Wage Salary')\n",
    "# axs[1].bar(r2, bottom_5_WAGE['Liv_Wage Salary'], color='coral', width=barWidth, label='Liv_Wage Salary')\n",
    "# axs[1].bar(r3, bottom_5_WAGE['Median Salary'], color='pink', width=barWidth, label='Median Salary')\n",
    "# axs[1].bar(r4, bottom_5_WAGE['Average Salary'], color='purple', width=barWidth, label='Average Salary')\n",
    "# axs[1].axhline(pov_value, color='red', linewidth=2, linestyle='--', label=f'Poverty Line')\n",
    "# axs[1].set_title('Lowest 5 Salaries Based on Minimum Wage')\n",
    "# axs[1].set_xlabel('State')\n",
    "# axs[1].set_ylabel('Salary')\n",
    "# axs[1].set_xticks([r + barWidth / 2 for r in range(len(bottom_5_sal['State']))], bottom_5_sal['State'])\n",
    "# axs[1].legend()\n",
    "\n",
    "# fig.suptitle('Comparisons of Minimum Wage, Living Cost, Median, & Average Salaries', fontsize=16)\n",
    "\n",
    "# plt.tight_layout()\n",
    "\n",
    "# plt.show()"
   ]
  }
 ],
 "metadata": {
  "kernelspec": {
   "display_name": "Python 3.11.3 64-bit ('3.11.3')",
   "language": "python",
   "name": "python3"
  },
  "language_info": {
   "codemirror_mode": {
    "name": "ipython",
    "version": 3
   },
   "file_extension": ".py",
   "mimetype": "text/x-python",
   "name": "python",
   "nbconvert_exporter": "python",
   "pygments_lexer": "ipython3",
   "version": "3.11.3"
  },
  "orig_nbformat": 4,
  "vscode": {
   "interpreter": {
    "hash": "a388b1ab957910b4a0d7059e730e091a9fced6803ceb2c02b1c4bfc39e25df6f"
   }
  }
 },
 "nbformat": 4,
 "nbformat_minor": 2
}
